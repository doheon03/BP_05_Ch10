{
  "nbformat": 4,
  "nbformat_minor": 0,
  "metadata": {
    "colab": {
      "provenance": [],
      "authorship_tag": "ABX9TyPFyoKXXQYI/9MOeLhd3+HQ",
      "include_colab_link": true
    },
    "kernelspec": {
      "name": "python3",
      "display_name": "Python 3"
    },
    "language_info": {
      "name": "python"
    }
  },
  "cells": [
    {
      "cell_type": "markdown",
      "metadata": {
        "id": "view-in-github",
        "colab_type": "text"
      },
      "source": [
        "<a href=\"https://colab.research.google.com/github/doheon03/BP_05_Ch10/blob/main/BP_05_EX_Ch10.ipynb\" target=\"_parent\"><img src=\"https://colab.research.google.com/assets/colab-badge.svg\" alt=\"Open In Colab\"/></a>"
      ]
    },
    {
      "cell_type": "markdown",
      "source": [
        "1. 다음과 같이 하나의 레이블과 2개의 버튼을 가지는 프로그램을 작성하여 보자."
      ],
      "metadata": {
        "id": "DBy-2zYGIaoX"
      }
    },
    {
      "cell_type": "code",
      "source": [
        "\n",
        "\n",
        "\n"
      ],
      "metadata": {
        "id": "yTDb-OFtI4ov"
      },
      "execution_count": null,
      "outputs": []
    },
    {
      "cell_type": "markdown",
      "source": [
        "2.숫자를 입럭하고“더하기” 버튼을누르면 합계에 더해지고 빼기” 버튼을누르면 합계에서 배지는 계산기를 작성하여 본다."
      ],
      "metadata": {
        "id": "8xtwYg2LKADq"
      }
    },
    {
      "cell_type": "code",
      "source": [],
      "metadata": {
        "id": "oi9u4wfVLAjL"
      },
      "execution_count": null,
      "outputs": []
    },
    {
      "cell_type": "markdown",
      "source": [
        "3.우리가 앞에서 텍스트 버전으로 제작하였던 숫자 맞추기 게임을 그래픽 사용자 인터페이스 버전으로 작성해보자."
      ],
      "metadata": {
        "id": "JzhIqYUELBcE"
      }
    },
    {
      "cell_type": "code",
      "source": [],
      "metadata": {
        "id": "VrSvGgB_LKYG"
      },
      "execution_count": null,
      "outputs": []
    },
    {
      "cell_type": "markdown",
      "source": [
        "4.인치를 센티미터로 변환하는 다음과 같은 프로그램을 작성해보자."
      ],
      "metadata": {
        "id": "xwFN4z2PLKxN"
      }
    },
    {
      "cell_type": "code",
      "source": [],
      "metadata": {
        "id": "MC3pip_ZLPhi"
      },
      "execution_count": null,
      "outputs": []
    },
    {
      "cell_type": "markdown",
      "source": [
        "5.데이터를 입력받을때 사용할수 있는 다음과 같은 애플리케이션을 작성해보자."
      ],
      "metadata": {
        "id": "M1krnqimLQLN"
      }
    },
    {
      "cell_type": "code",
      "source": [],
      "metadata": {
        "id": "3_ff1FokLVex"
      },
      "execution_count": null,
      "outputs": []
    },
    {
      "cell_type": "markdown",
      "source": [
        "6 가위,바위,보 게임을 GUI 버전으로 작성해보자.사용자의 선택은 왼쪽에 이미지로 표시한다.컴퓨터의 선택은 오른쪽에 이미지로 표시한다.사용자는 버튼을 눌러서 가위,바위,보 중에 하나를 선택할수 있다.사용자의 선택이 끝나면결과를 화면에 텍스트로 표시한다"
      ],
      "metadata": {
        "id": "KK6-WDt7Lyf7"
      }
    },
    {
      "cell_type": "code",
      "source": [],
      "metadata": {
        "id": "OSNARpt7L6St"
      },
      "execution_count": null,
      "outputs": []
    }
  ]
}